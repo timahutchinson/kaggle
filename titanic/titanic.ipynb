{
 "cells": [
  {
   "cell_type": "markdown",
   "metadata": {},
   "source": [
    "# Titanic: Machine Learning from Disaster\n",
    "\n",
    "The sinking of the RMS Titanic is one of the most infamous shipwrecks in history.  On April 15, 1912, during her maiden voyage, the Titanic sank after colliding with an iceberg, killing 1502 out of 2224 passengers and crew. This sensational tragedy shocked the international community and led to better safety regulations for ships.\n",
    "\n",
    "One of the reasons that the shipwreck led to such loss of life was that there were not enough lifeboats for the passengers and crew. Although there was some element of luck involved in surviving the sinking, some groups of people were more likely to survive than others, such as women, children, and the upper-class.\n",
    "\n",
    "In this notebook, I'll attempt to use machine learning tools to predict which passengers survived the tragedy."
   ]
  },
  {
   "cell_type": "markdown",
   "metadata": {},
   "source": [
    "First, we need to do our imports."
   ]
  },
  {
   "cell_type": "code",
   "execution_count": 251,
   "metadata": {
    "collapsed": true
   },
   "outputs": [],
   "source": [
    "from __future__ import division, print_function\n",
    "\n",
    "import pandas as pd\n",
    "import matplotlib.pyplot as plt\n",
    "import seaborn as sns\n",
    "sns.set_style('white')\n",
    "sns.set_palette('muted')"
   ]
  },
  {
   "cell_type": "markdown",
   "metadata": {},
   "source": [
    "Read in the training data."
   ]
  },
  {
   "cell_type": "code",
   "execution_count": 222,
   "metadata": {
    "collapsed": true
   },
   "outputs": [],
   "source": [
    "train = pd.read_csv('train.csv')"
   ]
  },
  {
   "cell_type": "markdown",
   "metadata": {},
   "source": [
    "## Initial exploration\n",
    "First, we'll spend a bit of time exploring the data, and visualizing it in many different ways.  This is where we can build our intuition for the data set and develop some preliminary ideas about the relationships between variables.  First, let's see what variables we have."
   ]
  },
  {
   "cell_type": "code",
   "execution_count": 223,
   "metadata": {},
   "outputs": [
    {
     "data": {
      "text/html": [
       "<div>\n",
       "<style>\n",
       "    .dataframe thead tr:only-child th {\n",
       "        text-align: right;\n",
       "    }\n",
       "\n",
       "    .dataframe thead th {\n",
       "        text-align: left;\n",
       "    }\n",
       "\n",
       "    .dataframe tbody tr th {\n",
       "        vertical-align: top;\n",
       "    }\n",
       "</style>\n",
       "<table border=\"1\" class=\"dataframe\">\n",
       "  <thead>\n",
       "    <tr style=\"text-align: right;\">\n",
       "      <th></th>\n",
       "      <th>PassengerId</th>\n",
       "      <th>Survived</th>\n",
       "      <th>Pclass</th>\n",
       "      <th>Name</th>\n",
       "      <th>Sex</th>\n",
       "      <th>Age</th>\n",
       "      <th>SibSp</th>\n",
       "      <th>Parch</th>\n",
       "      <th>Ticket</th>\n",
       "      <th>Fare</th>\n",
       "      <th>Cabin</th>\n",
       "      <th>Embarked</th>\n",
       "    </tr>\n",
       "  </thead>\n",
       "  <tbody>\n",
       "    <tr>\n",
       "      <th>0</th>\n",
       "      <td>1</td>\n",
       "      <td>0</td>\n",
       "      <td>3</td>\n",
       "      <td>Braund, Mr. Owen Harris</td>\n",
       "      <td>male</td>\n",
       "      <td>22.0</td>\n",
       "      <td>1</td>\n",
       "      <td>0</td>\n",
       "      <td>A/5 21171</td>\n",
       "      <td>7.2500</td>\n",
       "      <td>NaN</td>\n",
       "      <td>S</td>\n",
       "    </tr>\n",
       "    <tr>\n",
       "      <th>1</th>\n",
       "      <td>2</td>\n",
       "      <td>1</td>\n",
       "      <td>1</td>\n",
       "      <td>Cumings, Mrs. John Bradley (Florence Briggs Th...</td>\n",
       "      <td>female</td>\n",
       "      <td>38.0</td>\n",
       "      <td>1</td>\n",
       "      <td>0</td>\n",
       "      <td>PC 17599</td>\n",
       "      <td>71.2833</td>\n",
       "      <td>C85</td>\n",
       "      <td>C</td>\n",
       "    </tr>\n",
       "    <tr>\n",
       "      <th>2</th>\n",
       "      <td>3</td>\n",
       "      <td>1</td>\n",
       "      <td>3</td>\n",
       "      <td>Heikkinen, Miss. Laina</td>\n",
       "      <td>female</td>\n",
       "      <td>26.0</td>\n",
       "      <td>0</td>\n",
       "      <td>0</td>\n",
       "      <td>STON/O2. 3101282</td>\n",
       "      <td>7.9250</td>\n",
       "      <td>NaN</td>\n",
       "      <td>S</td>\n",
       "    </tr>\n",
       "    <tr>\n",
       "      <th>3</th>\n",
       "      <td>4</td>\n",
       "      <td>1</td>\n",
       "      <td>1</td>\n",
       "      <td>Futrelle, Mrs. Jacques Heath (Lily May Peel)</td>\n",
       "      <td>female</td>\n",
       "      <td>35.0</td>\n",
       "      <td>1</td>\n",
       "      <td>0</td>\n",
       "      <td>113803</td>\n",
       "      <td>53.1000</td>\n",
       "      <td>C123</td>\n",
       "      <td>S</td>\n",
       "    </tr>\n",
       "    <tr>\n",
       "      <th>4</th>\n",
       "      <td>5</td>\n",
       "      <td>0</td>\n",
       "      <td>3</td>\n",
       "      <td>Allen, Mr. William Henry</td>\n",
       "      <td>male</td>\n",
       "      <td>35.0</td>\n",
       "      <td>0</td>\n",
       "      <td>0</td>\n",
       "      <td>373450</td>\n",
       "      <td>8.0500</td>\n",
       "      <td>NaN</td>\n",
       "      <td>S</td>\n",
       "    </tr>\n",
       "    <tr>\n",
       "      <th>5</th>\n",
       "      <td>6</td>\n",
       "      <td>0</td>\n",
       "      <td>3</td>\n",
       "      <td>Moran, Mr. James</td>\n",
       "      <td>male</td>\n",
       "      <td>NaN</td>\n",
       "      <td>0</td>\n",
       "      <td>0</td>\n",
       "      <td>330877</td>\n",
       "      <td>8.4583</td>\n",
       "      <td>NaN</td>\n",
       "      <td>Q</td>\n",
       "    </tr>\n",
       "    <tr>\n",
       "      <th>6</th>\n",
       "      <td>7</td>\n",
       "      <td>0</td>\n",
       "      <td>1</td>\n",
       "      <td>McCarthy, Mr. Timothy J</td>\n",
       "      <td>male</td>\n",
       "      <td>54.0</td>\n",
       "      <td>0</td>\n",
       "      <td>0</td>\n",
       "      <td>17463</td>\n",
       "      <td>51.8625</td>\n",
       "      <td>E46</td>\n",
       "      <td>S</td>\n",
       "    </tr>\n",
       "    <tr>\n",
       "      <th>7</th>\n",
       "      <td>8</td>\n",
       "      <td>0</td>\n",
       "      <td>3</td>\n",
       "      <td>Palsson, Master. Gosta Leonard</td>\n",
       "      <td>male</td>\n",
       "      <td>2.0</td>\n",
       "      <td>3</td>\n",
       "      <td>1</td>\n",
       "      <td>349909</td>\n",
       "      <td>21.0750</td>\n",
       "      <td>NaN</td>\n",
       "      <td>S</td>\n",
       "    </tr>\n",
       "    <tr>\n",
       "      <th>8</th>\n",
       "      <td>9</td>\n",
       "      <td>1</td>\n",
       "      <td>3</td>\n",
       "      <td>Johnson, Mrs. Oscar W (Elisabeth Vilhelmina Berg)</td>\n",
       "      <td>female</td>\n",
       "      <td>27.0</td>\n",
       "      <td>0</td>\n",
       "      <td>2</td>\n",
       "      <td>347742</td>\n",
       "      <td>11.1333</td>\n",
       "      <td>NaN</td>\n",
       "      <td>S</td>\n",
       "    </tr>\n",
       "    <tr>\n",
       "      <th>9</th>\n",
       "      <td>10</td>\n",
       "      <td>1</td>\n",
       "      <td>2</td>\n",
       "      <td>Nasser, Mrs. Nicholas (Adele Achem)</td>\n",
       "      <td>female</td>\n",
       "      <td>14.0</td>\n",
       "      <td>1</td>\n",
       "      <td>0</td>\n",
       "      <td>237736</td>\n",
       "      <td>30.0708</td>\n",
       "      <td>NaN</td>\n",
       "      <td>C</td>\n",
       "    </tr>\n",
       "  </tbody>\n",
       "</table>\n",
       "</div>"
      ],
      "text/plain": [
       "   PassengerId  Survived  Pclass  \\\n",
       "0            1         0       3   \n",
       "1            2         1       1   \n",
       "2            3         1       3   \n",
       "3            4         1       1   \n",
       "4            5         0       3   \n",
       "5            6         0       3   \n",
       "6            7         0       1   \n",
       "7            8         0       3   \n",
       "8            9         1       3   \n",
       "9           10         1       2   \n",
       "\n",
       "                                                Name     Sex   Age  SibSp  \\\n",
       "0                            Braund, Mr. Owen Harris    male  22.0      1   \n",
       "1  Cumings, Mrs. John Bradley (Florence Briggs Th...  female  38.0      1   \n",
       "2                             Heikkinen, Miss. Laina  female  26.0      0   \n",
       "3       Futrelle, Mrs. Jacques Heath (Lily May Peel)  female  35.0      1   \n",
       "4                           Allen, Mr. William Henry    male  35.0      0   \n",
       "5                                   Moran, Mr. James    male   NaN      0   \n",
       "6                            McCarthy, Mr. Timothy J    male  54.0      0   \n",
       "7                     Palsson, Master. Gosta Leonard    male   2.0      3   \n",
       "8  Johnson, Mrs. Oscar W (Elisabeth Vilhelmina Berg)  female  27.0      0   \n",
       "9                Nasser, Mrs. Nicholas (Adele Achem)  female  14.0      1   \n",
       "\n",
       "   Parch            Ticket     Fare Cabin Embarked  \n",
       "0      0         A/5 21171   7.2500   NaN        S  \n",
       "1      0          PC 17599  71.2833   C85        C  \n",
       "2      0  STON/O2. 3101282   7.9250   NaN        S  \n",
       "3      0            113803  53.1000  C123        S  \n",
       "4      0            373450   8.0500   NaN        S  \n",
       "5      0            330877   8.4583   NaN        Q  \n",
       "6      0             17463  51.8625   E46        S  \n",
       "7      1            349909  21.0750   NaN        S  \n",
       "8      2            347742  11.1333   NaN        S  \n",
       "9      0            237736  30.0708   NaN        C  "
      ]
     },
     "execution_count": 223,
     "metadata": {},
     "output_type": "execute_result"
    }
   ],
   "source": [
    "train.head(10)"
   ]
  },
  {
   "cell_type": "markdown",
   "metadata": {},
   "source": [
    "* PassengerId is just an integer counting index.\n",
    "* Survived is a Boolean describing whether or not the person survived.\n",
    "* Pclass is an integer describing the fare class of the passenger, of first (1), second (2), or third (3). \n",
    "* Name and Sex are strings containing the name and sex of the passenger, respectively. \n",
    "* Age is a float containing the age of the passenger.\n",
    "* SibSp is an integer containing the number of siblings / spouses aboard the ship.\n",
    "* Parch is an interger of the number of parents / children aboard.\n",
    "* Ticket is a string containing the ticket number.\n",
    "* Fare is a float containing the ticket fare.\n",
    "* Cabin is a string containing the cabin number in which the passenger stayed. \n",
    "* Embarked is a string giving the passenger's port of embarkation (C = Cherbourg, Q = Queenstown, S = Southampton).\n",
    "\n",
    "Clearly, some columns have missing data (as we see in Age and Cabin).  Let's see how many data points are missing from each."
   ]
  },
  {
   "cell_type": "code",
   "execution_count": 224,
   "metadata": {},
   "outputs": [
    {
     "name": "stdout",
     "output_type": "stream",
     "text": [
      "PassengerId      0\n",
      "Survived         0\n",
      "Pclass           0\n",
      "Name             0\n",
      "Sex              0\n",
      "Age            177\n",
      "SibSp            0\n",
      "Parch            0\n",
      "Ticket           0\n",
      "Fare             0\n",
      "Cabin          687\n",
      "Embarked         2\n",
      "dtype: int64\n",
      "\n",
      "Total: 891\n"
     ]
    }
   ],
   "source": [
    "print(train.isnull().sum())\n",
    "print(\"\\nTotal: %i\" % len(train['PassengerId']))"
   ]
  },
  {
   "cell_type": "markdown",
   "metadata": {},
   "source": [
    "Embarked is missing 2 values, Age is missing 177, while Cabin is missing 687.  Let's compare that with the test set, so we know which features we can rely on for predictions and which we cannot."
   ]
  },
  {
   "cell_type": "code",
   "execution_count": 225,
   "metadata": {},
   "outputs": [
    {
     "name": "stdout",
     "output_type": "stream",
     "text": [
      "PassengerId      0\n",
      "Pclass           0\n",
      "Name             0\n",
      "Sex              0\n",
      "Age             86\n",
      "SibSp            0\n",
      "Parch            0\n",
      "Ticket           0\n",
      "Fare             1\n",
      "Cabin          327\n",
      "Embarked         0\n",
      "dtype: int64\n",
      "\n",
      "Total: 418\n"
     ]
    }
   ],
   "source": [
    "test = pd.read_csv('test.csv')\n",
    "print(test.isnull().sum())\n",
    "print(\"\\nTotal: %i\" % len(test['PassengerId']))"
   ]
  },
  {
   "cell_type": "markdown",
   "metadata": {},
   "source": [
    "Out of 418 test passengers, 86 are missing an age and 327 are missing a cabin. We can probably make do with age, but in our first pass, we should probably ignore Cabin.\n",
    "\n",
    "Now, let's look at some basic statistics of the features in our training sample."
   ]
  },
  {
   "cell_type": "code",
   "execution_count": 226,
   "metadata": {},
   "outputs": [
    {
     "data": {
      "text/html": [
       "<div>\n",
       "<style>\n",
       "    .dataframe thead tr:only-child th {\n",
       "        text-align: right;\n",
       "    }\n",
       "\n",
       "    .dataframe thead th {\n",
       "        text-align: left;\n",
       "    }\n",
       "\n",
       "    .dataframe tbody tr th {\n",
       "        vertical-align: top;\n",
       "    }\n",
       "</style>\n",
       "<table border=\"1\" class=\"dataframe\">\n",
       "  <thead>\n",
       "    <tr style=\"text-align: right;\">\n",
       "      <th></th>\n",
       "      <th>PassengerId</th>\n",
       "      <th>Survived</th>\n",
       "      <th>Pclass</th>\n",
       "      <th>Age</th>\n",
       "      <th>SibSp</th>\n",
       "      <th>Parch</th>\n",
       "      <th>Fare</th>\n",
       "    </tr>\n",
       "  </thead>\n",
       "  <tbody>\n",
       "    <tr>\n",
       "      <th>count</th>\n",
       "      <td>891.000000</td>\n",
       "      <td>891.000000</td>\n",
       "      <td>891.000000</td>\n",
       "      <td>714.000000</td>\n",
       "      <td>891.000000</td>\n",
       "      <td>891.000000</td>\n",
       "      <td>891.000000</td>\n",
       "    </tr>\n",
       "    <tr>\n",
       "      <th>mean</th>\n",
       "      <td>446.000000</td>\n",
       "      <td>0.383838</td>\n",
       "      <td>2.308642</td>\n",
       "      <td>29.699118</td>\n",
       "      <td>0.523008</td>\n",
       "      <td>0.381594</td>\n",
       "      <td>32.204208</td>\n",
       "    </tr>\n",
       "    <tr>\n",
       "      <th>std</th>\n",
       "      <td>257.353842</td>\n",
       "      <td>0.486592</td>\n",
       "      <td>0.836071</td>\n",
       "      <td>14.526497</td>\n",
       "      <td>1.102743</td>\n",
       "      <td>0.806057</td>\n",
       "      <td>49.693429</td>\n",
       "    </tr>\n",
       "    <tr>\n",
       "      <th>min</th>\n",
       "      <td>1.000000</td>\n",
       "      <td>0.000000</td>\n",
       "      <td>1.000000</td>\n",
       "      <td>0.420000</td>\n",
       "      <td>0.000000</td>\n",
       "      <td>0.000000</td>\n",
       "      <td>0.000000</td>\n",
       "    </tr>\n",
       "    <tr>\n",
       "      <th>25%</th>\n",
       "      <td>223.500000</td>\n",
       "      <td>0.000000</td>\n",
       "      <td>2.000000</td>\n",
       "      <td>20.125000</td>\n",
       "      <td>0.000000</td>\n",
       "      <td>0.000000</td>\n",
       "      <td>7.910400</td>\n",
       "    </tr>\n",
       "    <tr>\n",
       "      <th>50%</th>\n",
       "      <td>446.000000</td>\n",
       "      <td>0.000000</td>\n",
       "      <td>3.000000</td>\n",
       "      <td>28.000000</td>\n",
       "      <td>0.000000</td>\n",
       "      <td>0.000000</td>\n",
       "      <td>14.454200</td>\n",
       "    </tr>\n",
       "    <tr>\n",
       "      <th>75%</th>\n",
       "      <td>668.500000</td>\n",
       "      <td>1.000000</td>\n",
       "      <td>3.000000</td>\n",
       "      <td>38.000000</td>\n",
       "      <td>1.000000</td>\n",
       "      <td>0.000000</td>\n",
       "      <td>31.000000</td>\n",
       "    </tr>\n",
       "    <tr>\n",
       "      <th>max</th>\n",
       "      <td>891.000000</td>\n",
       "      <td>1.000000</td>\n",
       "      <td>3.000000</td>\n",
       "      <td>80.000000</td>\n",
       "      <td>8.000000</td>\n",
       "      <td>6.000000</td>\n",
       "      <td>512.329200</td>\n",
       "    </tr>\n",
       "  </tbody>\n",
       "</table>\n",
       "</div>"
      ],
      "text/plain": [
       "       PassengerId    Survived      Pclass         Age       SibSp  \\\n",
       "count   891.000000  891.000000  891.000000  714.000000  891.000000   \n",
       "mean    446.000000    0.383838    2.308642   29.699118    0.523008   \n",
       "std     257.353842    0.486592    0.836071   14.526497    1.102743   \n",
       "min       1.000000    0.000000    1.000000    0.420000    0.000000   \n",
       "25%     223.500000    0.000000    2.000000   20.125000    0.000000   \n",
       "50%     446.000000    0.000000    3.000000   28.000000    0.000000   \n",
       "75%     668.500000    1.000000    3.000000   38.000000    1.000000   \n",
       "max     891.000000    1.000000    3.000000   80.000000    8.000000   \n",
       "\n",
       "            Parch        Fare  \n",
       "count  891.000000  891.000000  \n",
       "mean     0.381594   32.204208  \n",
       "std      0.806057   49.693429  \n",
       "min      0.000000    0.000000  \n",
       "25%      0.000000    7.910400  \n",
       "50%      0.000000   14.454200  \n",
       "75%      0.000000   31.000000  \n",
       "max      6.000000  512.329200  "
      ]
     },
     "execution_count": 226,
     "metadata": {},
     "output_type": "execute_result"
    }
   ],
   "source": [
    "train.describe()"
   ]
  },
  {
   "cell_type": "markdown",
   "metadata": {},
   "source": [
    "There isn't much information to be gleaned here from PassengerId, Survived, Pclass, SibSp, or Parch, but it does tell us that there is a large range in values in both Age (0.42 to 80) and Fare (0 to ~512).\n",
    "\n",
    "Let's go ahead and isolate the survivors and non-survivors so we can begin to explore the effects each individual feature has on survival rate.  Let's also see the total survival rate of our training data."
   ]
  },
  {
   "cell_type": "code",
   "execution_count": 227,
   "metadata": {},
   "outputs": [
    {
     "name": "stdout",
     "output_type": "stream",
     "text": [
      "Fraction of passengers that survived: 0.384\n"
     ]
    }
   ],
   "source": [
    "surv = train[train['Survived'] == 1]\n",
    "nsurv = train[train['Survived'] == 0]\n",
    "print( \"Fraction of passengers that survived: %.03f\" % (len(surv) / (len(surv) + len(nsurv))) )"
   ]
  },
  {
   "cell_type": "markdown",
   "metadata": {},
   "source": [
    "So, 61.6% of passengers in our training sample died. We can compare various groups to see if they were more or less likely than the average passenger. This will allow us to guess which features are most responsible for determining survival. This also sets a benchmark for our prediction efficiency later on, because simply predicting every passenger died will give us approximately this accuracy. We need our ML methods to do better. "
   ]
  },
  {
   "cell_type": "markdown",
   "metadata": {},
   "source": [
    "Let's make a few plots to look at the data and see what trends we can pick out by eye."
   ]
  },
  {
   "cell_type": "code",
   "execution_count": 228,
   "metadata": {},
   "outputs": [
    {
     "data": {
      "image/png": "[encoded data removed]",
      "text/plain": [
       "<matplotlib.figure.Figure at 0x1185b7f90>"
      ]
     },
     "metadata": {},
     "output_type": "display_data"
    }
   ],
   "source": [
    "f = plt.figure(figsize=[14,8])\n",
    "f.add_subplot(241)\n",
    "sns.barplot('Pclass', 'Survived', data=train)\n",
    "f.add_subplot(242)\n",
    "sns.barplot('SibSp', 'Survived', data=train)\n",
    "f.add_subplot(243)\n",
    "sns.barplot('Parch', 'Survived', data=train)\n",
    "f.add_subplot(244)\n",
    "sns.barplot('Sex', 'Survived', data=train)\n",
    "f.add_subplot(245)\n",
    "sns.barplot('Embarked', 'Survived', data=train)\n",
    "f.add_subplot(246)\n",
    "sns.distplot(surv['Age'].dropna().values, bins=range(0, 80, 5), kde=False, color='blue', norm_hist=True,\n",
    "            label='Survived')\n",
    "sns.distplot(nsurv['Age'].dropna().values, bins=range(0, 80, 5), kde=False, color='red', norm_hist=True,\n",
    "             axlabel='Age', label='Died')\n",
    "plt.legend()\n",
    "f.add_subplot(247)\n",
    "sns.distplot(np.log10(surv['Fare'].dropna().values+1), bins=np.arange(0,3,.1875), kde=False, color='blue',\n",
    "             norm_hist=True, label='Survived')\n",
    "sns.distplot(np.log10(nsurv['Fare'].dropna().values+1), bins=np.arange(0,3,.1875), kde=False, color='red',\n",
    "             norm_hist=True,axlabel=r'log$_{10}$(Fare)', label='Died')\n",
    "plt.legend()\n",
    "plt.tight_layout()"
   ]
  },
  {
   "cell_type": "markdown",
   "metadata": {
    "collapsed": true
   },
   "source": [
    "Let's look at these one by one.  \n",
    "\n",
    "* There is a clear correlation between survival probability and Pclass, where passengers in first class are almost thrice as likely to have survived than those in third class.  This will absolutely be a useful feature for our ML model.\n",
    "* Moving on to SibSp, it appears as those with 1 or 2 siblings or spouses are more likely to survive than those with 0, 3, or 4.  Those with SibSp = 1 could well be primarily married women (with their husband on board), as married women were unlikely to be traveling trans-Atlantic alone.  Similarly, those with SibSp = 0 are likely single men. As we'll see in the Sex plot, women were far more likely to survive than men.  Addtionally, SibSp >= 2 are certainly children, who were more likely to survive (as evidenced by the spike near zero in the Age histogram).  However, then we need to ask the question, \"Why were those with SibSp = 3 or SibSp = 4 even less likely to survive?  It could be because large families were forced to buy more tickets, and thus chose cheaper fares - and we've already seen that Pclass correlates strongly with survival rate.  This feature needs further investigation, to be sure.\n",
    "* Parch can have similar arguments made - large families (Parch = 5) were more likely to be in lower classes, and thus less likely to survive.  What about the low survival rate of Parch = 0?  These were either people traveling alone (which were probably mostly men) or couples with no children (and we know from history that women and children boarded the lifeboats first, so those without children were less likely to survive). This also requires more investigation.\n",
    "* Sex is an easy one.  Women and children boarded the lifeboats first, meaning men were more than three times more likely to die.\n",
    "* Embarkation is a tricky one. Those embarking in Cherbourg were 75% more likely to survive than those embarking at Southampton, and Queenstown fell somewhere in the middle.  There isn't an obvious reason for this to be true, unless the port of embarkation correlations with another variable (e.g., those embarking in Cherbourg were more likely to be in first class).\n",
    "* Two things stand out to me in Age.  First, the spike near 0 for survived passengers, which is easily explained by children getting priority in lifeboats.  Similarly, there is an excess of dead passengers between about 20 and 35.  Perhaps these were young men traveling alone?\n",
    "* Finally, Fare - this is mostly as expected.  Those with more expensive fares were more likely to survive.  There is a clear spike of dead passengers around 1, which are likely those in third class, while the sharp drop off in dead passengers at higher fares reflects the first class passengers being almost three times as likely to survive."
   ]
  },
  {
   "cell_type": "markdown",
   "metadata": {},
   "source": [
    "Let's explore SibSp more. First, let's check if there is an excess of men traveling alone, and an excess of women traveling with a single sibling/spouse."
   ]
  },
  {
   "cell_type": "code",
   "execution_count": 229,
   "metadata": {},
   "outputs": [
    {
     "name": "stdout",
     "output_type": "stream",
     "text": [
      "Fraction of all passengers that are male: 0.648\n",
      "Fraction of SibSp = 0 passengers that are male: 0.714\n",
      "Fraction of all passengers that are female: 0.352\n",
      "Fraction of SibSp = 1 passengers that are female: 0.833\n"
     ]
    }
   ],
   "source": [
    "fr_m = len(train[train['Sex'] == 'male']) / len(train)\n",
    "fr_sibsp0_m = len(train[(train['SibSp'] == 0) & (train['Sex'] == 'male')]) / len(train[train['SibSp'] == 0])\n",
    "fr_sibsp1_f = len(train[(train['SibSp'] == 0) & (train['Sex'] == 'female')]) / len(train[train['SibSp'] == 1])\n",
    "print(\"Fraction of all passengers that are male: %.03f\" % fr_m)\n",
    "print(\"Fraction of SibSp = 0 passengers that are male: %.03f\" % fr_sibsp0_m)\n",
    "print(\"Fraction of all passengers that are female: %.03f\" % (1-fr_m))\n",
    "print(\"Fraction of SibSp = 1 passengers that are female: %.03f\" % fr_sibsp1_f)"
   ]
  },
  {
   "cell_type": "markdown",
   "metadata": {},
   "source": [
    "As we expected, passengers with SibSp = 0 are more likely to be male than passengers in general - although not by as much as I'd expected!  However, passengers with SibSp = 1 were more than twice as likely to be femaile than passengers in general.  This suggests that we may be onto something in suggesting that the low survival of SibSp = 0 is due to that population being predominantly men, while the high survival of SibSp = 1 is due to it being primarily women."
   ]
  },
  {
   "cell_type": "code",
   "execution_count": 230,
   "metadata": {},
   "outputs": [
    {
     "data": {
      "image/png": "[encoded data removed]",
      "text/plain": [
       "<matplotlib.figure.Figure at 0x1172d6190>"
      ]
     },
     "metadata": {},
     "output_type": "display_data"
    }
   ],
   "source": [
    "f = p.figure(figsize=[14,4])\n",
    "for i in range(5):\n",
    "    f.add_subplot(1,5,i+1)\n",
    "    sns.distplot(train[train['SibSp'] == i]['Age'].dropna().values, range(0, 80, 5), kde=False, norm_hist=True,\n",
    "                axlabel='Age')\n",
    "    p.title('SibSp = %i' % i)\n",
    "p.tight_layout()"
   ]
  },
  {
   "cell_type": "markdown",
   "metadata": {},
   "source": [
    "Again, it looks like we were probably onto something in our above analysis of SibSp.  SibSp = 0 has a small number of passengers with Age < ~20 (only children), and then a steep jump up at Age = ~20, suggesting these are mostly adults.  SibSp = 1 looks similar (adults with a spouse on board), but with more children (likely since having only a single child was uncommon in 1912).  As SibSp increases, we see the distribution shift noticably to lower ages, as these are all children with several siblings on board."
   ]
  },
  {
   "cell_type": "code",
   "execution_count": 231,
   "metadata": {},
   "outputs": [
    {
     "data": {
      "image/png": "[encoded data removed]",
      "text/plain": [
       "<matplotlib.figure.Figure at 0x118f4b3d0>"
      ]
     },
     "metadata": {},
     "output_type": "display_data"
    }
   ],
   "source": [
    "f = plt.figure(figsize=[12,6])\n",
    "f.add_subplot(121)\n",
    "sns.barplot('SibSp', 'Pclass', data=train[train['SibSp'] <= 4])\n",
    "f.add_subplot(122)\n",
    "sns.barplot('SibSp', 'Fare', data=train[train['SibSp'] <= 4])\n",
    "plt.tight_layout()"
   ]
  },
  {
   "cell_type": "markdown",
   "metadata": {},
   "source": [
    "As we surmised above, the larger the family size, the lower the class, on average.  Of course, lower classes were less likely to survive (despite the \"women and children first\" rule), so this is likely the reason behind the lower survival rate of SibSp > 2. Surprisingly, the mean fare increases with number of siblings, which does not reflect what is seen when looking at class.  I'm not sure what to make of this at the moment.\n",
    "\n",
    "Now let's look more closely at Parch."
   ]
  },
  {
   "cell_type": "code",
   "execution_count": 232,
   "metadata": {},
   "outputs": [
    {
     "name": "stdout",
     "output_type": "stream",
     "text": [
      "Fraction of all passengers that are male: 0.648\n",
      "Fraction of Parch = 0 passengers that are male: 0.714\n"
     ]
    },
    {
     "data": {
      "image/png": "[encoded data removed]",
      "text/plain": [
       "<matplotlib.figure.Figure at 0x118832b90>"
      ]
     },
     "metadata": {},
     "output_type": "display_data"
    }
   ],
   "source": [
    "fr_m = len(train[train['Sex'] == 'male']) / len(train)\n",
    "fr_parch0_m = len(train[(train['Parch'] == 0) & (train['Sex'] == 'male')]) / len(train[train['Parch'] == 0])\n",
    "print(\"Fraction of all passengers that are male: %.03f\" % fr_m)\n",
    "print(\"Fraction of Parch = 0 passengers that are male: %.03f\" % fr_parch0_m)\n",
    "\n",
    "f = plt.figure(figsize=[12,6])\n",
    "f.add_subplot(121)\n",
    "sns.barplot('Parch', 'Pclass', data=train)\n",
    "f.add_subplot(122)\n",
    "sns.distplot(train['Age'][train['Parch'] == 0].dropna().values, kde=False, axlabel='Age', norm_hist=True)\n",
    "plt.title('Parch = 0')\n",
    "plt.tight_layout()"
   ]
  },
  {
   "cell_type": "markdown",
   "metadata": {},
   "source": [
    "Let's look at embarkation next.  This is one I don't have any intuition for off the bat - my guess is that it must correlation with another feature (family size? fare class? sex?)"
   ]
  },
  {
   "cell_type": "code",
   "execution_count": 233,
   "metadata": {},
   "outputs": [
    {
     "name": "stdout",
     "output_type": "stream",
     "text": [
      "Fraction of passengers with Embarked = S that are male: 0.685\n",
      "Fraction of passengers with Embarked = C that are male: 0.565\n",
      "Fraction of passengers with Embarked = Q that are male: 0.532\n"
     ]
    },
    {
     "data": {
      "text/plain": [
       "<matplotlib.axes._subplots.AxesSubplot at 0x118c50290>"
      ]
     },
     "execution_count": 233,
     "metadata": {},
     "output_type": "execute_result"
    },
    {
     "data": {
      "image/png": "[encoded data removed]",
      "text/plain": [
       "<matplotlib.figure.Figure at 0x118f69fd0>"
      ]
     },
     "metadata": {},
     "output_type": "display_data"
    }
   ],
   "source": [
    "for port in ['S', 'C', 'Q']:\n",
    "    fr = len(train[(train['Embarked'] == port) & (train['Sex'] == 'male')]) / len(train[train['Embarked'] == port])\n",
    "    print( \"Fraction of passengers with Embarked = %s that are male: %.03f\" % (port, fr) )\n",
    "f = plt.figure(figsize=[12,4])\n",
    "f.add_subplot(131)\n",
    "sns.barplot('Embarked', 'Pclass', data=train)\n",
    "f.add_subplot(132)\n",
    "sns.barplot('Embarked', 'Parch', data=train)\n",
    "f.add_subplot(133)\n",
    "sns.barplot('Embarked', 'SibSp', data=train)"
   ]
  },
  {
   "cell_type": "markdown",
   "metadata": {},
   "source": [
    "It seems that perhaps the low survival rate of Southampton embarkations is due to the larger fraction of male passengers there.  Likewise, the high survival rate of Cherbourg passengers is reflected in the better Pclass.  Southampton also had larger family size (Parch + SibSp), which we've already seen correlates with lower survival rate.  However, it seems like Embarkation is entangled with other, more reliable features, and thus probably isn't the best predictor.\n",
    "\n",
    "As one final exploratory measure, let's look at the correlation matrix of all of the features.  This requires a bit of data transformation (if we want to include Sex, which is currently a string).  We'll do this by simply adding a new column, SexBool, that converts Sex to a Boolean, using 0 for males and 1 for females. We've already seen that we aren't missing any data in the Sex column, so we don't need to be careful about handling missing values here.  We'll do the same with Embarked (using C=0, Q=1, S=2), being sure to deal with the two missing values when they show up (we'll just add NaN, which DataFrame.corr() ignores)."
   ]
  },
  {
   "cell_type": "code",
   "execution_count": 252,
   "metadata": {},
   "outputs": [
    {
     "data": {
      "text/html": [
       "<div>\n",
       "<style>\n",
       "    .dataframe thead tr:only-child th {\n",
       "        text-align: right;\n",
       "    }\n",
       "\n",
       "    .dataframe thead th {\n",
       "        text-align: left;\n",
       "    }\n",
       "\n",
       "    .dataframe tbody tr th {\n",
       "        vertical-align: top;\n",
       "    }\n",
       "</style>\n",
       "<table border=\"1\" class=\"dataframe\">\n",
       "  <thead>\n",
       "    <tr style=\"text-align: right;\">\n",
       "      <th></th>\n",
       "      <th>PassengerId</th>\n",
       "      <th>Survived</th>\n",
       "      <th>Pclass</th>\n",
       "      <th>Age</th>\n",
       "      <th>SibSp</th>\n",
       "      <th>Parch</th>\n",
       "      <th>Fare</th>\n",
       "      <th>SexBool</th>\n",
       "      <th>EmbarkInt</th>\n",
       "    </tr>\n",
       "  </thead>\n",
       "  <tbody>\n",
       "    <tr>\n",
       "      <th>PassengerId</th>\n",
       "      <td>1.000000</td>\n",
       "      <td>-0.005007</td>\n",
       "      <td>-0.035144</td>\n",
       "      <td>0.036847</td>\n",
       "      <td>-0.057527</td>\n",
       "      <td>-0.001652</td>\n",
       "      <td>0.012658</td>\n",
       "      <td>-0.042939</td>\n",
       "      <td>0.013166</td>\n",
       "    </tr>\n",
       "    <tr>\n",
       "      <th>Survived</th>\n",
       "      <td>-0.005007</td>\n",
       "      <td>1.000000</td>\n",
       "      <td>-0.338481</td>\n",
       "      <td>-0.077221</td>\n",
       "      <td>-0.035322</td>\n",
       "      <td>0.081629</td>\n",
       "      <td>0.257307</td>\n",
       "      <td>0.543351</td>\n",
       "      <td>-0.169718</td>\n",
       "    </tr>\n",
       "    <tr>\n",
       "      <th>Pclass</th>\n",
       "      <td>-0.035144</td>\n",
       "      <td>-0.338481</td>\n",
       "      <td>1.000000</td>\n",
       "      <td>-0.369226</td>\n",
       "      <td>0.083081</td>\n",
       "      <td>0.018443</td>\n",
       "      <td>-0.549500</td>\n",
       "      <td>-0.131900</td>\n",
       "      <td>0.164681</td>\n",
       "    </tr>\n",
       "    <tr>\n",
       "      <th>Age</th>\n",
       "      <td>0.036847</td>\n",
       "      <td>-0.077221</td>\n",
       "      <td>-0.369226</td>\n",
       "      <td>1.000000</td>\n",
       "      <td>-0.308247</td>\n",
       "      <td>-0.189119</td>\n",
       "      <td>0.096067</td>\n",
       "      <td>-0.093254</td>\n",
       "      <td>-0.032565</td>\n",
       "    </tr>\n",
       "    <tr>\n",
       "      <th>SibSp</th>\n",
       "      <td>-0.057527</td>\n",
       "      <td>-0.035322</td>\n",
       "      <td>0.083081</td>\n",
       "      <td>-0.308247</td>\n",
       "      <td>1.000000</td>\n",
       "      <td>0.414838</td>\n",
       "      <td>0.159651</td>\n",
       "      <td>0.114631</td>\n",
       "      <td>0.068900</td>\n",
       "    </tr>\n",
       "    <tr>\n",
       "      <th>Parch</th>\n",
       "      <td>-0.001652</td>\n",
       "      <td>0.081629</td>\n",
       "      <td>0.018443</td>\n",
       "      <td>-0.189119</td>\n",
       "      <td>0.414838</td>\n",
       "      <td>1.000000</td>\n",
       "      <td>0.216225</td>\n",
       "      <td>0.245489</td>\n",
       "      <td>0.040449</td>\n",
       "    </tr>\n",
       "    <tr>\n",
       "      <th>Fare</th>\n",
       "      <td>0.012658</td>\n",
       "      <td>0.257307</td>\n",
       "      <td>-0.549500</td>\n",
       "      <td>0.096067</td>\n",
       "      <td>0.159651</td>\n",
       "      <td>0.216225</td>\n",
       "      <td>1.000000</td>\n",
       "      <td>0.182333</td>\n",
       "      <td>-0.226311</td>\n",
       "    </tr>\n",
       "    <tr>\n",
       "      <th>SexBool</th>\n",
       "      <td>-0.042939</td>\n",
       "      <td>0.543351</td>\n",
       "      <td>-0.131900</td>\n",
       "      <td>-0.093254</td>\n",
       "      <td>0.114631</td>\n",
       "      <td>0.245489</td>\n",
       "      <td>0.182333</td>\n",
       "      <td>1.000000</td>\n",
       "      <td>-0.110320</td>\n",
       "    </tr>\n",
       "    <tr>\n",
       "      <th>EmbarkInt</th>\n",
       "      <td>0.013166</td>\n",
       "      <td>-0.169718</td>\n",
       "      <td>0.164681</td>\n",
       "      <td>-0.032565</td>\n",
       "      <td>0.068900</td>\n",
       "      <td>0.040449</td>\n",
       "      <td>-0.226311</td>\n",
       "      <td>-0.110320</td>\n",
       "      <td>1.000000</td>\n",
       "    </tr>\n",
       "  </tbody>\n",
       "</table>\n",
       "</div>"
      ],
      "text/plain": [
       "             PassengerId  Survived    Pclass       Age     SibSp     Parch  \\\n",
       "PassengerId     1.000000 -0.005007 -0.035144  0.036847 -0.057527 -0.001652   \n",
       "Survived       -0.005007  1.000000 -0.338481 -0.077221 -0.035322  0.081629   \n",
       "Pclass         -0.035144 -0.338481  1.000000 -0.369226  0.083081  0.018443   \n",
       "Age             0.036847 -0.077221 -0.369226  1.000000 -0.308247 -0.189119   \n",
       "SibSp          -0.057527 -0.035322  0.083081 -0.308247  1.000000  0.414838   \n",
       "Parch          -0.001652  0.081629  0.018443 -0.189119  0.414838  1.000000   \n",
       "Fare            0.012658  0.257307 -0.549500  0.096067  0.159651  0.216225   \n",
       "SexBool        -0.042939  0.543351 -0.131900 -0.093254  0.114631  0.245489   \n",
       "EmbarkInt       0.013166 -0.169718  0.164681 -0.032565  0.068900  0.040449   \n",
       "\n",
       "                 Fare   SexBool  EmbarkInt  \n",
       "PassengerId  0.012658 -0.042939   0.013166  \n",
       "Survived     0.257307  0.543351  -0.169718  \n",
       "Pclass      -0.549500 -0.131900   0.164681  \n",
       "Age          0.096067 -0.093254  -0.032565  \n",
       "SibSp        0.159651  0.114631   0.068900  \n",
       "Parch        0.216225  0.245489   0.040449  \n",
       "Fare         1.000000  0.182333  -0.226311  \n",
       "SexBool      0.182333  1.000000  -0.110320  \n",
       "EmbarkInt   -0.226311 -0.110320   1.000000  "
      ]
     },
     "execution_count": 252,
     "metadata": {},
     "output_type": "execute_result"
    }
   ],
   "source": [
    "sex_bool = [0 if sex == 'male' else 1 for sex in train['Sex']]\n",
    "train['SexBool'] = sex_bool\n",
    "embarked_int = []\n",
    "for e in train['Embarked']:\n",
    "    if e == 'C': embarked_int.append(0)\n",
    "    elif e == 'Q': embarked_int.append(1)\n",
    "    elif e == 'S': embarked_int.append(2)\n",
    "    else: embarked_int.append(np.nan)\n",
    "train['EmbarkInt'] = embarked_int\n",
    "train.corr()"
   ]
  },
  {
   "cell_type": "markdown",
   "metadata": {},
   "source": [
    "This is the most straightforward way of seeing which variables correlate with which, although it's not too informative of how those relationships actually play out - hence the analysis above.  The three variables that correlate most strongly with Survived, in descending order, are Sex, Pclass, and Fare.\n",
    "\n",
    "We also see many of the relationships we discovered above showing up in this plot.  Pclass correlates with Age (older passengers are in higher classes) and Fare (high classes had higher higher fares), SibSp correlates with Parch (children in large families have many siblings, parents of large families have many children).  We also see Sex correlating positively with Parch and SibSp - and since we used 1 to represent women, this means that women had larger numbers of family members with them, confirming our guess that they were less likely to be traveling alone.\n",
    "\n",
    "I think that's enough exploratory work.  We have a pretty good idea of how our features interact and influence each other, and, more importantly, which features most strongly drive survival rates. Let's build and test some ML models.\n",
    "\n",
    "# Predictive Modeling\n",
    "\n",
    "Import cross validation scoring package for evaluating our models."
   ]
  },
  {
   "cell_type": "code",
   "execution_count": 328,
   "metadata": {
    "collapsed": true
   },
   "outputs": [],
   "source": [
    "from sklearn.model_selection import cross_val_score"
   ]
  },
  {
   "cell_type": "markdown",
   "metadata": {},
   "source": [
    "## Naive Bayes\n",
    "\n",
    "First, as this is a binary classification problem, let's start with a Naive Bayes model."
   ]
  },
  {
   "cell_type": "code",
   "execution_count": 235,
   "metadata": {
    "collapsed": true
   },
   "outputs": [],
   "source": [
    "from sklearn.naive_bayes import GaussianNB"
   ]
  },
  {
   "cell_type": "markdown",
   "metadata": {},
   "source": [
    "Because we'll be training on testing on the same data, we'll write a function to bootstrap a training and test set for each method.  We'll run this a handful of times, and average our results.  Addtionally, we'll frequently be averaging success rates over some number of bootstraps, so we'll include a function to do that for us.  DRY!"
   ]
  },
  {
   "cell_type": "code",
   "execution_count": 236,
   "metadata": {
    "collapsed": true
   },
   "outputs": [],
   "source": [
    "def trim_data(full_data, features):\n",
    "    sdata = full_data\n",
    "    for feature in features:\n",
    "        sdata = full_data[np.invert(full_data[feature].isnull())]\n",
    "    return sdata\n",
    "\n",
    "def select_features(full_data, features):\n",
    "    sdata = trim_data(full_data, features)\n",
    "    tr_data = []\n",
    "    tr_target = []\n",
    "    for _, row in sdata.iterrows():\n",
    "        tr_data.append(bootstrap_row(row, features))\n",
    "        tr_target.append(row['Survived'])\n",
    "    return tr_data, tr_target\n",
    "\n",
    "def bootstrap_row(row, features):\n",
    "    data_i = []\n",
    "    for feature in features:\n",
    "        try:\n",
    "            data_i.append(row[feature].values[0])\n",
    "        except AttributeError:\n",
    "            data_i.append(row[feature])\n",
    "    return data_i\n",
    "\n",
    "def bootstrap(full_data, features):\n",
    "    nsamples = len(full_data)\n",
    "    sdata = trim_data(full_data, features)\n",
    "    tr_data = []\n",
    "    tr_target = []\n",
    "    for _ in range(nsamples):\n",
    "        row = sdata.sample(1)\n",
    "        tr_data.append(bootstrap_row(row, features))\n",
    "        tr_target.append(row['Survived'].values[0])\n",
    "    return tr_data, tr_target\n",
    "\n",
    "def multi_classify(data, y_fit, features, n_classify=10):\n",
    "    ncorrs = []\n",
    "    for _ in range(n_classify):\n",
    "        test_data, test_target = bootstrap(data, features)\n",
    "        y_pred = y_fit.predict(test_data)\n",
    "        ncorrs.append( (y_pred == test_target).sum() )\n",
    "    return len(test_data), np.mean(ncorrs)"
   ]
  },
  {
   "cell_type": "markdown",
   "metadata": {},
   "source": [
    "To simplify matters for the time being, let's go ahead and only use the three feature that we think will best correlate with Survived - Sex, Pclass, and Fare.  We'll isolate those in an array of training data, along with the targets for them.  We'll also need to convert Sex to a Boolean for the NB classifier to handle it.  We'll use the SexBool variable we created earlier."
   ]
  },
  {
   "cell_type": "code",
   "execution_count": 302,
   "metadata": {},
   "outputs": [],
   "source": [
    "tr_data, tr_target = select_features(train, ['SexBool', 'Pclass', 'Fare', 'Age'])"
   ]
  },
  {
   "cell_type": "markdown",
   "metadata": {},
   "source": [
    "We'll train our Gaussian Naive Bayes classifier on this set, and then run another XXX sets to test, and compare the predictions with the targets. Even if this logic is a bit circular, it's better than straight training and testing on the same set."
   ]
  },
  {
   "cell_type": "code",
   "execution_count": 338,
   "metadata": {},
   "outputs": [
    {
     "name": "stdout",
     "output_type": "stream",
     "text": [
      "0.773109243697\n",
      "0.766157785876\n"
     ]
    }
   ],
   "source": [
    "gnb = GaussianNB()\n",
    "y_fit = gnb.fit(tr_data, tr_target)\n",
    "#npass, avgcorr = multi_classify(train, y_fit, ['SexBool', 'Pclass', 'Fare'], n_classify=10)\n",
    "#print(\"Out of %d training passengers, %.1f were predicted correctly, which is %.2f percent.\" %\n",
    "#      (npass, avgcorr, 100*avgcorr/npass))\n",
    "print(gnb.score(tr_data, tr_target))\n",
    "print(cross_val_score(y_fit, tr_data, tr_target, cv=5).mean())"
   ]
  },
  {
   "cell_type": "markdown",
   "metadata": {},
   "source": [
    "This gives us around 78%, which is better than our \"requirement\" of getting at least 61.6%. Could this be improved simply by adding more features? Let's expand our model by adding Parch and Embarked. Because we have two missing values for Embarked, we'll need to trim our data set to exclude those passengers."
   ]
  },
  {
   "cell_type": "code",
   "execution_count": 339,
   "metadata": {},
   "outputs": [
    {
     "name": "stdout",
     "output_type": "stream",
     "text": [
      "0.784026996625\n",
      "0.778429505491\n"
     ]
    }
   ],
   "source": [
    "tr_data, tr_target = select_features(train, ['SexBool', 'Pclass', 'Fare', 'Parch', 'EmbarkInt'])\n",
    "gnb = GaussianNB()\n",
    "y_fit = gnb.fit(tr_data, tr_target)\n",
    "#npass, avgcorr = multi_classify(train, y_fit, ['SexBool', 'Pclass', 'Fare', 'Parch', 'EmbarkInt'], n_classify=10)\n",
    "#print(\"Out of %d training passengers, %.1f were predicted correctly, which is %.2f percent.\" %\n",
    "#      (npass, avgcorr, 100*avgcorr/npass))\n",
    "print(gnb.score(tr_data, tr_target))\n",
    "print(cross_val_score(y_fit, tr_data, tr_target, cv=5).mean())"
   ]
  },
  {
   "cell_type": "markdown",
   "metadata": {},
   "source": [
    "This provides us with a pretty negligible increase (if any).  This should raise the question of how much predicting power the additional features give.  What if we ran a NB with just Sex?"
   ]
  },
  {
   "cell_type": "code",
   "execution_count": 340,
   "metadata": {},
   "outputs": [
    {
     "name": "stdout",
     "output_type": "stream",
     "text": [
      "0.786756453423\n",
      "0.786715024929\n"
     ]
    }
   ],
   "source": [
    "tr_data, tr_target = select_features(train, ['SexBool'])\n",
    "gnb = GaussianNB()\n",
    "y_fit = gnb.fit(tr_data, tr_target)\n",
    "#npass, avgcorr = multi_classify(train, y_fit, ['SexBool'], n_classify=10)\n",
    "#print(\"Out of %d training passengers, %.1f were predicted correctly, which is %.2f percent.\" %\n",
    "#      (npass, avgcorr, 100*avgcorr/npass))\n",
    "print(gnb.score(tr_data, tr_target))\n",
    "print(cross_val_score(y_fit, tr_data, tr_target, cv=5).mean())"
   ]
  },
  {
   "cell_type": "markdown",
   "metadata": {},
   "source": [
    "As I suspected, Sex is driving our Naive Bayes mdoel.  In fact, I wonder what would happen if we simply predicted that all women lived and all men died."
   ]
  },
  {
   "cell_type": "code",
   "execution_count": 307,
   "metadata": {},
   "outputs": [
    {
     "name": "stdout",
     "output_type": "stream",
     "text": [
      "Out of 891 training passengers, 701.0 were predicted correctly, which is 78.68 percent.\n"
     ]
    }
   ],
   "source": [
    "strain = trim_data(train, ['Sex'])\n",
    "y_pred = [1 if sex == 'female' else 0 for sex in strain['Sex']]\n",
    "ncorr = (y_pred == strain['Survived']).sum()\n",
    "npass = len(y_pred)\n",
    "print(\"Out of %d training passengers, %.1f were predicted correctly, which is %.2f percent.\" %\n",
    "      (npass, ncorr, 100*ncorr/npass))"
   ]
  },
  {
   "cell_type": "markdown",
   "metadata": {},
   "source": [
    "Okay, yeah. So our Naive Bayes model is really no better than predicting that a female passenger will survive and a male passenger will die. We'll need to use a different model.\n",
    "\n",
    "## k Nearest Neighbors\n",
    "\n",
    "Next, let's try a k Nearest Neighbors approach."
   ]
  },
  {
   "cell_type": "code",
   "execution_count": 242,
   "metadata": {},
   "outputs": [],
   "source": [
    "from sklearn.neighbors import KNeighborsClassifier"
   ]
  },
  {
   "cell_type": "markdown",
   "metadata": {},
   "source": [
    "Train the model and make some predictions..."
   ]
  },
  {
   "cell_type": "code",
   "execution_count": 341,
   "metadata": {},
   "outputs": [
    {
     "name": "stdout",
     "output_type": "stream",
     "text": [
      "0.830532212885\n",
      "0.676529104698\n"
     ]
    }
   ],
   "source": [
    "tr_data, tr_target = select_features(train, ['SexBool', 'Pclass', 'Fare', 'Age'])\n",
    "knn = KNeighborsClassifier(n_neighbors=3)\n",
    "y_fit = knn.fit(tr_data, tr_target)\n",
    "#npass, avgcorr = multi_classify(train, y_fit, ['SexBool', 'Pclass', 'Fare'], n_classify=10)\n",
    "#print(\"Out of %d training passengers, %.1f were predicted correctly, which is %.2f percent.\" %\n",
    "#      (npass, ncorr, 100*ncorr/npass))\n",
    "print(knn.score(tr_data, tr_target))\n",
    "print(cross_val_score(y_fit, tr_data, tr_target, cv=5).mean())"
   ]
  },
  {
   "cell_type": "markdown",
   "metadata": {},
   "source": [
    "This is definitely an improvement. Let's go ahead and do a simple optimization of the hyperparameters to see how well we can make our kNN perform."
   ]
  },
  {
   "cell_type": "code",
   "execution_count": 346,
   "metadata": {},
   "outputs": [
    {
     "data": {
      "image/png": "[encoded data removed]",
      "text/plain": [
       "<matplotlib.figure.Figure at 0x117b7ced0>"
      ]
     },
     "metadata": {},
     "output_type": "display_data"
    }
   ],
   "source": [
    "f = plt.figure(figsize=[12,6])\n",
    "f.add_subplot(121)\n",
    "n_neighbors_list = range(1,16)\n",
    "for weights in ['uniform', 'distance']:\n",
    "    scores = []\n",
    "    for n_neighbors in n_neighbors_list:\n",
    "        knn = KNeighborsClassifier(n_neighbors=n_neighbors, weights=weights)\n",
    "        y_fit = knn.fit(tr_data, tr_target)\n",
    "        scores.append(knn.score(tr_data, tr_target))\n",
    "    plt.plot(n_neighbors_list, scores, label=weights)\n",
    "    plt.legend()\n",
    "    plt.xlabel('n_neighbors')\n",
    "    plt.ylabel('Score')\n",
    "f.add_subplot(122)\n",
    "for weights in ['uniform', 'distance']:\n",
    "    cv_scores = []\n",
    "    for n_neighbors in n_neighbors_list:\n",
    "        knn = KNeighborsClassifier(n_neighbors=n_neighbors, weights=weights)\n",
    "        y_fit = knn.fit(tr_data, tr_target)\n",
    "        cv_scores.append(cross_val_score(y_fit, tr_data, tr_target, cv=5).mean())\n",
    "    plt.plot(n_neighbors_list, cv_scores, label=weights)\n",
    "    plt.legend()\n",
    "    plt.xlabel('n_neighbors')\n",
    "    plt.ylabel('CV Score')"
   ]
  },
  {
   "cell_type": "markdown",
   "metadata": {},
   "source": [
    "So it looks like we can do best with k=3 and weighting by distance.  Let's get that score explicitly for comparison with other models later."
   ]
  },
  {
   "cell_type": "code",
   "execution_count": 342,
   "metadata": {},
   "outputs": [
    {
     "name": "stdout",
     "output_type": "stream",
     "text": [
      "0.984593837535\n",
      "0.679346006107\n"
     ]
    }
   ],
   "source": [
    "knn = KNeighborsClassifier(n_neighbors=3, weights='distance')\n",
    "y_fit = knn.fit(tr_data, tr_target)\n",
    "print(knn.score(tr_data, tr_target))\n",
    "print(cross_val_score(y_fit, tr_data, tr_target, cv=5).mean())"
   ]
  },
  {
   "cell_type": "markdown",
   "metadata": {},
   "source": [
    "Next, let's see how we can do with a Random Forest.  I'll (arbitrarily) start with 10 estimators, and we can optimize that later."
   ]
  },
  {
   "cell_type": "code",
   "execution_count": 351,
   "metadata": {},
   "outputs": [
    {
     "name": "stdout",
     "output_type": "stream",
     "text": [
      "0.984593837535\n",
      "0.801181916675\n"
     ]
    }
   ],
   "source": [
    "from sklearn.ensemble import RandomForestClassifier\n",
    "tr_data, tr_target = select_features(train, ['SexBool', 'Pclass', 'Fare', 'Age'])\n",
    "rf = RandomForestClassifier(n_estimators=100)\n",
    "y_fit = rf.fit(tr_data, tr_target)\n",
    "#npass, avgcorr = multi_classify(train, y_fit, ['SexBool', 'Pclass', 'Fare'], n_classify=10)\n",
    "#print(\"Out of %d training passengers, %.1f were predicted correctly, which is %.2f percent.\" %\n",
    "#      (npass, ncorr, 100*ncorr/npass))\n",
    "print(rf.score(tr_data, tr_target))\n",
    "print(cross_val_score(y_fit, tr_data, tr_target, cv=5).mean())"
   ]
  },
  {
   "cell_type": "markdown",
   "metadata": {},
   "source": [
    "This is roughly the same as kNN, so at least it's competitive.  Let's optimize the number of estimators."
   ]
  },
  {
   "cell_type": "code",
   "execution_count": 348,
   "metadata": {},
   "outputs": [
    {
     "name": "stdout",
     "output_type": "stream",
     "text": [
      "Max score of 0.984594 with 35 estimators\n"
     ]
    },
    {
     "data": {
      "image/png": "[encoded data removed]",
      "text/plain": [
       "<matplotlib.figure.Figure at 0x118c89b10>"
      ]
     },
     "metadata": {},
     "output_type": "display_data"
    }
   ],
   "source": [
    "f = plt.figure(figsize=[12,6])\n",
    "f.add_subplot(121)\n",
    "n_estimators_list = range(10,100,5)\n",
    "scores = []\n",
    "cv_scores = []\n",
    "for n_estimators in n_estimators_list:\n",
    "    rf = RandomForestClassifier(n_estimators=n_estimators)\n",
    "    y_fit = rf.fit(tr_data, tr_target)\n",
    "    scores.append(rf.score(tr_data, tr_target))\n",
    "    cv_scores.append(cross_val_score(y_fit, tr_data, tr_target, cv=5).mean())\n",
    "plt.plot(n_estimators_list, scores)\n",
    "plt.xlabel('n_estimators')\n",
    "plt.ylabel('Score')\n",
    "f.add_subplot(122)\n",
    "plt.plot(n_estimators_list, cv_scores)\n",
    "plt.xlabel('n_estimators')\n",
    "plt.ylabel('CV Score')\n",
    "print(\"Max score of %f with %i estimators\" % (max(scores), n_estimators_list[np.array(scores).argmax()]))"
   ]
  },
  {
   "cell_type": "markdown",
   "metadata": {},
   "source": [
    "So, it appears we can max ourselves out, score-wise, with 80 estimators.  In fact, this gives us the same performance as kNN."
   ]
  },
  {
   "cell_type": "code",
   "execution_count": null,
   "metadata": {
    "collapsed": true
   },
   "outputs": [],
   "source": []
  }
 ],
 "metadata": {
  "kernelspec": {
   "display_name": "Python 2",
   "language": "python",
   "name": "python2"
  },
  "language_info": {
   "codemirror_mode": {
    "name": "ipython",
    "version": 2
   },
   "file_extension": ".py",
   "mimetype": "text/x-python",
   "name": "python",
   "nbconvert_exporter": "python",
   "pygments_lexer": "ipython2",
   "version": "2.7.13"
  }
 },
 "nbformat": 4,
 "nbformat_minor": 2
}
